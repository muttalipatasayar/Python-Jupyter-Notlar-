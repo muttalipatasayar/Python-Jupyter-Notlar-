{
 "cells": [
  {
   "cell_type": "code",
   "execution_count": 1,
   "metadata": {},
   "outputs": [
    {
     "data": {
      "text/plain": [
       "720"
      ]
     },
     "execution_count": 1,
     "metadata": {},
     "output_type": "execute_result"
    }
   ],
   "source": [
    "import math\n",
    "math.factorial(6)"
   ]
  },
  {
   "cell_type": "code",
   "execution_count": 3,
   "metadata": {},
   "outputs": [
    {
     "data": {
      "text/plain": [
       "5"
      ]
     },
     "execution_count": 3,
     "metadata": {},
     "output_type": "execute_result"
    }
   ],
   "source": [
    "math.floor(5.6)"
   ]
  },
  {
   "cell_type": "code",
   "execution_count": null,
   "metadata": {},
   "outputs": [],
   "source": [
    "from math import *"
   ]
  },
  {
   "cell_type": "code",
   "execution_count": 5,
   "metadata": {},
   "outputs": [
    {
     "ename": "NameError",
     "evalue": "name 'factorial' is not defined",
     "output_type": "error",
     "traceback": [
      "\u001b[1;31m---------------------------------------------------------------------------\u001b[0m",
      "\u001b[1;31mNameError\u001b[0m                                 Traceback (most recent call last)",
      "\u001b[1;32m<ipython-input-5-5e0569aed165>\u001b[0m in \u001b[0;36m<module>\u001b[1;34m\u001b[0m\n\u001b[1;32m----> 1\u001b[1;33m \u001b[0mfactorial\u001b[0m\u001b[1;33m(\u001b[0m\u001b[1;36m7\u001b[0m\u001b[1;33m)\u001b[0m\u001b[1;33m\u001b[0m\u001b[1;33m\u001b[0m\u001b[0m\n\u001b[0m",
      "\u001b[1;31mNameError\u001b[0m: name 'factorial' is not defined"
     ]
    }
   ],
   "source": [
    "factorial(7)"
   ]
  },
  {
   "cell_type": "code",
   "execution_count": 1,
   "metadata": {},
   "outputs": [
    {
     "data": {
      "text/plain": [
       "720"
      ]
     },
     "execution_count": 1,
     "metadata": {},
     "output_type": "execute_result"
    }
   ],
   "source": [
    "from math import *\n",
    "factorial(6)"
   ]
  },
  {
   "cell_type": "code",
   "execution_count": 2,
   "metadata": {},
   "outputs": [
    {
     "data": {
      "text/plain": [
       "5"
      ]
     },
     "execution_count": 2,
     "metadata": {},
     "output_type": "execute_result"
    }
   ],
   "source": [
    "floor(5.56)"
   ]
  },
  {
   "cell_type": "code",
   "execution_count": 3,
   "metadata": {},
   "outputs": [
    {
     "data": {
      "text/plain": [
       "'nt'"
      ]
     },
     "execution_count": 3,
     "metadata": {},
     "output_type": "execute_result"
    }
   ],
   "source": [
    "import os\n",
    "os.name"
   ]
  },
  {
   "cell_type": "code",
   "execution_count": 1,
   "metadata": {},
   "outputs": [
    {
     "data": {
      "text/plain": [
       "'nt'"
      ]
     },
     "execution_count": 1,
     "metadata": {},
     "output_type": "execute_result"
    }
   ],
   "source": [
    "import os\n",
    "os.name"
   ]
  },
  {
   "cell_type": "code",
   "execution_count": 7,
   "metadata": {},
   "outputs": [
    {
     "name": "stdout",
     "output_type": "stream",
     "text": [
      "Help on built-in function log in module math:\n",
      "\n",
      "log(...)\n",
      "    log(x, [base=math.e])\n",
      "    Return the logarithm of x to the given base.\n",
      "    \n",
      "    If the base not specified, returns the natural logarithm (base e) of x.\n",
      "\n"
     ]
    }
   ],
   "source": [
    "import math\n",
    "help(math.log)"
   ]
  },
  {
   "cell_type": "code",
   "execution_count": null,
   "metadata": {},
   "outputs": [
    {
     "name": "stdout",
     "output_type": "stream",
     "text": [
      "******************************************* ***\n",
      "GELİŞMİŞ HESAP MAKİNESİ PROGRAMI \n",
      "LÜTFEN İŞLEM SEÇİN\n",
      "1. İşlem = Toplama \n",
      "2. İşlem = Çıkarma \n",
      "3. İşlem = Çarpma \n",
      "4. İşlem = Bölme \n",
      "5. İşlem = Kare Alma \n",
      "6. İşlem = Faktoriyel \n",
      "7. İşlem = Hipotenüs \n",
      "8. İşlem = Küp Çevre Hesaplama \n",
      "9. İşlem = Küp Alan Hesaplama \n",
      "10. İşlem = Daire Çevre Hesaplama \n",
      "11. İşlem = Daire Alan Hesaplama \n",
      "**********************************************\n",
      "\n",
      "Islem Seciniz... 2\n",
      "birinci sayi 5\n",
      "ikinci sayi 76\n",
      "-71\n",
      "birinci sayi 6\n",
      "ikinci sayi 4\n",
      "2\n"
     ]
    }
   ],
   "source": [
    "from math import  *\n",
    "def toplama(a,b):\n",
    "    return a+b\n",
    "def cikarma(a,b):\n",
    "    return a-b\n",
    "def carpma(a,b):\n",
    "    return a*b\n",
    "def bolme(a,b):\n",
    "    return a/b\n",
    "def karealma():\n",
    "    karesi_alinan=float(input(\"Karesi alinancak sayi: \"))\n",
    "    karesi_alinan=karesi_alinan**2\n",
    "    print(karesi_alinan)\n",
    "def hipotenus():\n",
    "   dikkenar1=float(input(\"Dik kenarin birincisi : \")) \n",
    "   dikkenar2=float(input(\"Dik kenarin ikincisi : \"))\n",
    "   hipo=(dikkenar1*dikkenar1+dikkenar2*dikkenar2)**0.5 \n",
    "   print(hipo)  \n",
    "def kupcevre():\n",
    "    karekenar=float(input(\"Kupun herhangi bir kenarini giriniz : \"))\n",
    "    karekenarcevre=6*(karekenar**2)\n",
    "    print(karekenarcevre)\n",
    "def kupalan():\n",
    "    karekenar=float(input(\"Kupun  herhangi bir kenarini giriniz : \"))\n",
    "    karekenaralan= karekenar**3\n",
    "    print(\"kup : \",karekenaralan)   \n",
    "def dairecevre():\n",
    "    pi=float(input(\"Varsayilan Pi : \"))\n",
    "    daire=float(input(\"Yari Capi Giriniz : \"))\n",
    "    dairecevresonuc=2*pi*daire\n",
    "    print(dairecevresonuc)\n",
    "def dairealan():\n",
    "    pi=float(input(\"Varsayilan Pi : \"))\n",
    "    daire=float(input(\"Yari Capi Giriniz : \"))\n",
    "    dairealansonuc = (pi) * (daire ** 2)\n",
    "    print(dairealansonuc)\n",
    "\n",
    "print(\"******************************************* ***\\n\"\n",
    "\"GELİŞMİŞ HESAP MAKİNESİ PROGRAMI \\n\"\n",
    "\"LÜTFEN İŞLEM SEÇİN\\n\"\n",
    "\"1. İşlem = Toplama \\n\"\n",
    "\"2. İşlem = Çıkarma \\n\"\n",
    "\"3. İşlem = Çarpma \\n\"\n",
    "\"4. İşlem = Bölme \\n\"\n",
    "\"5. İşlem = Kare Alma \\n\"\n",
    "\"6. İşlem = Faktoriyel \\n\"\n",
    "\"7. İşlem = Hipotenüs \\n\"\n",
    "\"8. İşlem = Küp Çevre Hesaplama \\n\"\n",
    "\"9. İşlem = Küp Alan Hesaplama \\n\"\n",
    "\"10. İşlem = Daire Çevre Hesaplama \\n\"\n",
    "\"11. İşlem = Daire Alan Hesaplama \\n\"\n",
    "\"**********************************************\\n\" )\n",
    "\n",
    "islem =input(\"Islem Seciniz... \")\n",
    "while True:\n",
    "    if (islem == \"q\"):\n",
    "      print(\"Cikis Yaptiniz Iyi Gunler Dileriz ...\")\n",
    "      break\n",
    "    elif (islem == \"1\"):\n",
    "        a=int(input(\"birinci sayi \"))\n",
    "        b=int(input(\"ikinci sayi \")) \n",
    "        print(toplama(a,b))\n",
    "    elif (islem== \"2\"):\n",
    "        a=int(input(\"birinci sayi \"))\n",
    "        b=int(input(\"ikinci sayi \")) \n",
    "        print(cikarma(a,b))   \n",
    "    elif (islem == \"3\"):\n",
    "        a=int(input(\"birinci sayi \"))\n",
    "        b=int(input(\"ikinci sayi \")) \n",
    "        print(carpma(a,b))\n",
    "    elif (islem== \"4\"):\n",
    "        a=int(input(\"birinci sayi \"))\n",
    "        b=int(input(\"ikinci sayi \")) \n",
    "        print(bolme(a,b))   \n",
    "    elif (islem ==\"5\"):\n",
    "        karealma()\n",
    "    elif (islem ==\"6\"):\n",
    "        faktoriyel =int(input(\"Faktoriyeli alinacak sayiyi giriniz ... \"))\n",
    "        faktoriyel_sonuc=factorial(faktoriyel)\n",
    "        print(faktoriyel_sonuc)\n",
    "    elif(islem==\"7\"):\n",
    "        hipotenus()\n",
    "    elif(islem==\"8\"):\n",
    "        kupcevre()\n",
    "    elif(islem==\"9\"):\n",
    "        kupalan()\n",
    "    elif(islem==\"10\"):\n",
    "        dairecevre()\n",
    "    elif(islem==\"11\"):\n",
    "        dairealan()\n",
    "    else:\n",
    "        print(\"Geçersiz İşlem Yaptınız!! Lüfen Tekrar Deneyin !!\")           "
   ]
  },
  {
   "cell_type": "code",
   "execution_count": null,
   "metadata": {},
   "outputs": [],
   "source": []
  }
 ],
 "metadata": {
  "kernelspec": {
   "display_name": "Python 3",
   "language": "python",
   "name": "python3"
  },
  "language_info": {
   "codemirror_mode": {
    "name": "ipython",
    "version": 3
   },
   "file_extension": ".py",
   "mimetype": "text/x-python",
   "name": "python",
   "nbconvert_exporter": "python",
   "pygments_lexer": "ipython3",
   "version": "3.8.5"
  }
 },
 "nbformat": 4,
 "nbformat_minor": 4
}
