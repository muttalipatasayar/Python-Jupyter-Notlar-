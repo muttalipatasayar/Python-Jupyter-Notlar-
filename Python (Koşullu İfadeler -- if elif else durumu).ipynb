{
 "cells": [
  {
   "cell_type": "code",
   "execution_count": 4,
   "metadata": {},
   "outputs": [
    {
     "name": "stdout",
     "output_type": "stream",
     "text": [
      " Yaşınızı giriniz: 17\n",
      "mekana giremezsiniz! \n"
     ]
    }
   ],
   "source": [
    " yas=int(input(\" Yaşınızı giriniz: \" ) )\n",
    "    if yas<18:\n",
    "         print(\"mekana giremezsiniz! \")"
   ]
  },
  {
   "cell_type": "code",
   "execution_count": 13,
   "metadata": {},
   "outputs": [
    {
     "name": "stdout",
     "output_type": "stream",
     "text": [
      "Yaşınızı giriniz :  2\n",
      "mekana giremezsiniz: \n"
     ]
    }
   ],
   "source": [
    "yas=int(input(\"Yaşınızı giriniz :  \"))\n",
    "if yas<18:\n",
    "    print(\"mekana giremezsiniz: \")\n",
    "else:\n",
    "    print(\"Mekana girebilirsiniz\")"
   ]
  },
  {
   "cell_type": "code",
   "execution_count": 16,
   "metadata": {},
   "outputs": [
    {
     "name": "stdout",
     "output_type": "stream",
     "text": [
      "sayı giriniz :  -1\n",
      "sayı negatiftir: \n"
     ]
    }
   ],
   "source": [
    "sayi =int(input(\"sayı giriniz :  \"))\n",
    "if sayi<0:\n",
    "    print(\"sayı negatiftir: \")\n",
    "else:\n",
    "    print(\"sayı pozitiftir : \")"
   ]
  },
  {
   "cell_type": "code",
   "execution_count": 24,
   "metadata": {},
   "outputs": [
    {
     "name": "stdout",
     "output_type": "stream",
     "text": [
      "Notunuzu giriniz : 50\n",
      "Kaldınız .... \n"
     ]
    }
   ],
   "source": [
    "# harf notu hesaplama\n",
    "note= float(input(\"Notunuzu giriniz : \"))\n",
    "if(note>=90):\n",
    "    print(\"AA\")\n",
    "elif(note>=85):\n",
    "    print(\"BA\")\n",
    "elif(note>=80):\n",
    "    print(\"BB\")\n",
    "elif(note>=75):\n",
    "    print(\"CB\")\n",
    "elif(note>=70):\n",
    "    print(\"CC\")\n",
    "elif(note>=65):\n",
    "    print(\"DC\")\n",
    "elif(note>=60):\n",
    "    print(\"DD\")\n",
    "else:    \n",
    "    print(\"Kaldınız .... \")\n",
    "        "
   ]
  },
  {
   "cell_type": "code",
   "execution_count": 25,
   "metadata": {},
   "outputs": [
    {
     "name": "stdout",
     "output_type": "stream",
     "text": [
      "bu gölüme girmeye izniniz bulunmuyor\n"
     ]
    }
   ],
   "source": [
    "getAccess=False\n",
    "if(not getAccess):\n",
    "    print(\"bu gölüme girmeye izniniz bulunmuyor\")\n",
    "else:\n",
    "    print(\"izin sağlandı\")"
   ]
  },
  {
   "cell_type": "code",
   "execution_count": null,
   "metadata": {},
   "outputs": [],
   "source": []
  }
 ],
 "metadata": {
  "kernelspec": {
   "display_name": "Python 3",
   "language": "python",
   "name": "python3"
  },
  "language_info": {
   "codemirror_mode": {
    "name": "ipython",
    "version": 3
   },
   "file_extension": ".py",
   "mimetype": "text/x-python",
   "name": "python",
   "nbconvert_exporter": "python",
   "pygments_lexer": "ipython3",
   "version": "3.8.5"
  }
 },
 "nbformat": 4,
 "nbformat_minor": 4
}
